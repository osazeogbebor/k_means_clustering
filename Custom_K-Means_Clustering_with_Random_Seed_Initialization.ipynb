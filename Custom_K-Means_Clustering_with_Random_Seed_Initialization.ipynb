{
 "cells": [
  {
   "cell_type": "code",
   "execution_count": 4,
   "id": "e1bd499f",
   "metadata": {
    "_cell_guid": "b1076dfc-b9ad-4769-8c92-a6c4dae69d19",
    "_kg_hide-input": false,
    "_kg_hide-output": false,
    "_uuid": "8f2839f25d086af736a60e9eeb907d3b93b6e0e5",
    "execution": {
     "iopub.execute_input": "2023-09-18T23:53:29.200702Z",
     "iopub.status.busy": "2023-09-18T23:53:29.200061Z",
     "iopub.status.idle": "2023-09-18T23:53:29.692065Z",
     "shell.execute_reply": "2023-09-18T23:53:29.691162Z"
    },
    "papermill": {
     "duration": 0.505831,
     "end_time": "2023-09-18T23:53:29.695261",
     "exception": false,
     "start_time": "2023-09-18T23:53:29.189430",
     "status": "completed"
    },
    "tags": []
   },
   "outputs": [],
   "source": [
    "# This Python 3 environment comes with many helpful analytics libraries installed\n",
    "# It is defined by the kaggle/python Docker image: https://github.com/kaggle/docker-python\n",
    "# For example, here's several helpful packages to load\n",
    "\n",
    "import numpy as np # linear algebra\n",
    "import pandas as pd # data processing, CSV file I/O (e.g. pd.read_csv)\n",
    "\n",
    "# Input data files are available in the read-only \"../input/\" directory\n",
    "# For example, running this (by clicking run or pressing Shift+Enter) will list all files under the input directory\n",
    "\n",
    "import os\n",
    "for dirname, _, filenames in os.walk('/kaggle/input'):\n",
    "    for filename in filenames:\n",
    "        print(os.path.join(dirname, filename))\n",
    "\n",
    "# You can write up to 20GB to the current directory (/kaggle/working/) that gets preserved as output when you create a version using \"Save & Run All\" \n",
    "# You can also write temporary files to /kaggle/temp/, but they won't be saved outside of the current session"
   ]
  },
  {
   "cell_type": "markdown",
   "id": "97fbbbd1",
   "metadata": {
    "papermill": {
     "duration": 0.007479,
     "end_time": "2023-09-18T23:53:29.710651",
     "exception": false,
     "start_time": "2023-09-18T23:53:29.703172",
     "status": "completed"
    },
    "tags": []
   },
   "source": [
    "**INTRODUCTION**\n",
    "\n",
    "The FIFA franchise is more than just a globally renowned video game; it's a digital archive capturing the essence of football and its players over the years. With every annual iteration, a database emerges, reflecting the performances, potential, and valuation of players across various leagues. Given the fluid nature of sports where talent discovery and career trajectories vary, there's an inherent need to study, cluster, and understand these dynamics more granularly.\n",
    "\n",
    "In the vast universe of football, the task is complex: How do we effectively categorize players based on a combination of their skills, potential, age, and economic valuation? This is where the power of data science, especially clustering algorithms, comes into play.\n",
    "\n",
    "With this project, by employing a clustering methodology on FIFA player data, we aim to understand and visualize player groupings, offering insights to coaches, scouts, and football enthusiasts about player potential and value dynamics.\n",
    "\n",
    "**TASK DESCRIPTION**\n",
    "\n",
    "The heart of football beats through its players, each unique and contributing differently to the game. However, amidst this diversity, patterns emerge, and our project aims to unravel these by clustering FIFA player data.\n",
    "\n",
    "Here's our structured plan of action:\n",
    "\n",
    "**Data Acquisition**: Extracting player data from the FIFA dataset, focusing on key metrics: overall ratings, potential, valuation in euros, weekly wages, and age. This forms the foundation of our study.\n",
    "\n",
    "**Data Cleaning**: Addressing discrepancies, missing values, and ensuring a seamless dataset is imperative before diving deeper. This phase ensures that our data is devoid of anomalies that could skew results.\n",
    "\n",
    "**Data Normalization**: Utilizing MinMaxScaler, we transform our features, ensuring they lie in a standardized range. This aids in making sure that no particular feature disproportionately influences the clustering due to its scale.\n",
    "\n",
    "**Seed Initialization**: Randomly selecting seeds (or centroids) for our clustering. These seeds play a pivotal role in determining the player clusters and evolve with each iteration.\n",
    "\n",
    "**Iteration and Refinement**: Through a series of iterations, players are assigned to clusters based on Euclidean distances from seeds. Post which, seeds are recalculated, refining our clusters gradually until convergence.\n",
    "\n",
    "**Visualization**: Leveraging PCA for dimensionality reduction, we project our multi-dimensional data into a 2D space, visualizing our clusters and understanding player groupings.\n",
    "In essence, this project is about harnessing the power of data science to categorize FIFA players into meaningful clusters, thereby offering a fresh lens to understand player dynamics in the football universe.\n",
    "\n",
    "**DATA SOURCE**\n",
    "\n",
    "Our analysis is grounded on the comprehensive FIFA player dataset, meticulously curated over years and serving as a snapshot of football talent across eras. Recognizing its depth and richness, we've harnessed this data, ensuring each attribute—be it age, potential, or economic valuation—is factored in our clustering algorithm. This dataset not only fuels our analytical engine but also stands testament to the ever-evolving world of football.\n",
    "\n",
    "[View the dataset here](https://www.kaggle.com/datasets/stefanoleone992/fifa-22-complete-player-dataset)"
   ]
  },
  {
   "cell_type": "markdown",
   "id": "8242c9cc",
   "metadata": {
    "papermill": {
     "duration": 0.007074,
     "end_time": "2023-09-18T23:53:29.725200",
     "exception": false,
     "start_time": "2023-09-18T23:53:29.718126",
     "status": "completed"
    },
    "tags": []
   },
   "source": [
    "Tools and frameworks:\n",
    "\n",
    "To initiate the exploratory analysis, import required libraries"
   ]
  },
  {
   "cell_type": "code",
   "execution_count": 7,
   "id": "507c4c76",
   "metadata": {
    "execution": {
     "iopub.execute_input": "2023-09-18T23:53:29.743172Z",
     "iopub.status.busy": "2023-09-18T23:53:29.742019Z",
     "iopub.status.idle": "2023-09-18T23:53:31.357332Z",
     "shell.execute_reply": "2023-09-18T23:53:31.356173Z"
    },
    "papermill": {
     "duration": 1.627499,
     "end_time": "2023-09-18T23:53:31.360450",
     "exception": false,
     "start_time": "2023-09-18T23:53:29.732951",
     "status": "completed"
    },
    "tags": []
   },
   "outputs": [],
   "source": [
    "import numpy as np \n",
    "import pandas as pd\n",
    "import matplotlib.pyplot as plt\n",
    "from sklearn.preprocessing import MinMaxScaler\n",
    "from sklearn.decomposition import PCA\n",
    "import matplotlib.pyplot as plt\n",
    "from IPython.display import clear_output"
   ]
  },
  {
   "cell_type": "code",
   "execution_count": 8,
   "id": "16376699",
   "metadata": {
    "execution": {
     "iopub.execute_input": "2023-09-18T23:53:31.379148Z",
     "iopub.status.busy": "2023-09-18T23:53:31.377609Z",
     "iopub.status.idle": "2023-09-18T23:54:22.648318Z",
     "shell.execute_reply": "2023-09-18T23:54:22.647194Z"
    },
    "papermill": {
     "duration": 51.282989,
     "end_time": "2023-09-18T23:54:22.651238",
     "exception": false,
     "start_time": "2023-09-18T23:53:31.368249",
     "status": "completed"
    },
    "tags": []
   },
   "outputs": [],
   "source": [
    "#Load FIFA player dataset from Excel file\n",
    "df = pd.read_excel('/Users/osazeogbebor/Downloads/Career Mode player datasets - FIFA 15-22.xlsx')"
   ]
  },
  {
   "cell_type": "code",
   "execution_count": 9,
   "id": "e55dba03",
   "metadata": {
    "execution": {
     "iopub.execute_input": "2023-09-18T23:54:22.669350Z",
     "iopub.status.busy": "2023-09-18T23:54:22.667939Z",
     "iopub.status.idle": "2023-09-18T23:54:22.733327Z",
     "shell.execute_reply": "2023-09-18T23:54:22.732277Z"
    },
    "papermill": {
     "duration": 0.076757,
     "end_time": "2023-09-18T23:54:22.735694",
     "exception": false,
     "start_time": "2023-09-18T23:54:22.658937",
     "status": "completed"
    },
    "tags": []
   },
   "outputs": [
    {
     "data": {
      "text/html": [
       "<div>\n",
       "<style scoped>\n",
       "    .dataframe tbody tr th:only-of-type {\n",
       "        vertical-align: middle;\n",
       "    }\n",
       "\n",
       "    .dataframe tbody tr th {\n",
       "        vertical-align: top;\n",
       "    }\n",
       "\n",
       "    .dataframe thead th {\n",
       "        text-align: right;\n",
       "    }\n",
       "</style>\n",
       "<table border=\"1\" class=\"dataframe\">\n",
       "  <thead>\n",
       "    <tr style=\"text-align: right;\">\n",
       "      <th></th>\n",
       "      <th>sofifa_id</th>\n",
       "      <th>player_url</th>\n",
       "      <th>short_name</th>\n",
       "      <th>long_name</th>\n",
       "      <th>player_positions</th>\n",
       "      <th>overall</th>\n",
       "      <th>potential</th>\n",
       "      <th>value_eur</th>\n",
       "      <th>wage_eur</th>\n",
       "      <th>age</th>\n",
       "      <th>...</th>\n",
       "      <th>lcb</th>\n",
       "      <th>cb</th>\n",
       "      <th>rcb</th>\n",
       "      <th>rb</th>\n",
       "      <th>gk</th>\n",
       "      <th>player_face_url</th>\n",
       "      <th>club_logo_url</th>\n",
       "      <th>club_flag_url</th>\n",
       "      <th>nation_logo_url</th>\n",
       "      <th>nation_flag_url</th>\n",
       "    </tr>\n",
       "  </thead>\n",
       "  <tbody>\n",
       "    <tr>\n",
       "      <th>0</th>\n",
       "      <td>158023</td>\n",
       "      <td>https://sofifa.com/player/158023/lionel-messi/...</td>\n",
       "      <td>L. Messi</td>\n",
       "      <td>Lionel Andrés Messi Cuccittini</td>\n",
       "      <td>CF</td>\n",
       "      <td>93</td>\n",
       "      <td>95</td>\n",
       "      <td>100500000.0</td>\n",
       "      <td>550000.0</td>\n",
       "      <td>27</td>\n",
       "      <td>...</td>\n",
       "      <td>45+3</td>\n",
       "      <td>45+3</td>\n",
       "      <td>45+3</td>\n",
       "      <td>54+3</td>\n",
       "      <td>15+3</td>\n",
       "      <td>https://cdn.sofifa.net/players/158/023/15_120.png</td>\n",
       "      <td>https://cdn.sofifa.net/teams/241/60.png</td>\n",
       "      <td>https://cdn.sofifa.net/flags/es.png</td>\n",
       "      <td>https://cdn.sofifa.net/teams/1369/60.png</td>\n",
       "      <td>https://cdn.sofifa.net/flags/ar.png</td>\n",
       "    </tr>\n",
       "    <tr>\n",
       "      <th>1</th>\n",
       "      <td>20801</td>\n",
       "      <td>https://sofifa.com/player/20801/c-ronaldo-dos-...</td>\n",
       "      <td>Cristiano Ronaldo</td>\n",
       "      <td>Cristiano Ronaldo dos Santos Aveiro</td>\n",
       "      <td>LW, LM</td>\n",
       "      <td>92</td>\n",
       "      <td>92</td>\n",
       "      <td>79000000.0</td>\n",
       "      <td>375000.0</td>\n",
       "      <td>29</td>\n",
       "      <td>...</td>\n",
       "      <td>52+3</td>\n",
       "      <td>52+3</td>\n",
       "      <td>52+3</td>\n",
       "      <td>57+3</td>\n",
       "      <td>16+3</td>\n",
       "      <td>https://cdn.sofifa.net/players/020/801/15_120.png</td>\n",
       "      <td>https://cdn.sofifa.net/teams/243/60.png</td>\n",
       "      <td>https://cdn.sofifa.net/flags/es.png</td>\n",
       "      <td>https://cdn.sofifa.net/teams/1354/60.png</td>\n",
       "      <td>https://cdn.sofifa.net/flags/pt.png</td>\n",
       "    </tr>\n",
       "    <tr>\n",
       "      <th>2</th>\n",
       "      <td>9014</td>\n",
       "      <td>https://sofifa.com/player/9014/arjen-robben/15...</td>\n",
       "      <td>A. Robben</td>\n",
       "      <td>Arjen Robben</td>\n",
       "      <td>RM, LM, RW</td>\n",
       "      <td>90</td>\n",
       "      <td>90</td>\n",
       "      <td>54500000.0</td>\n",
       "      <td>275000.0</td>\n",
       "      <td>30</td>\n",
       "      <td>...</td>\n",
       "      <td>46+3</td>\n",
       "      <td>46+3</td>\n",
       "      <td>46+3</td>\n",
       "      <td>55+3</td>\n",
       "      <td>14+3</td>\n",
       "      <td>https://cdn.sofifa.net/players/009/014/15_120.png</td>\n",
       "      <td>https://cdn.sofifa.net/teams/21/60.png</td>\n",
       "      <td>https://cdn.sofifa.net/flags/de.png</td>\n",
       "      <td>https://cdn.sofifa.net/teams/105035/60.png</td>\n",
       "      <td>https://cdn.sofifa.net/flags/nl.png</td>\n",
       "    </tr>\n",
       "    <tr>\n",
       "      <th>3</th>\n",
       "      <td>41236</td>\n",
       "      <td>https://sofifa.com/player/41236/zlatan-ibrahim...</td>\n",
       "      <td>Z. Ibrahimović</td>\n",
       "      <td>Zlatan Ibrahimović</td>\n",
       "      <td>ST</td>\n",
       "      <td>90</td>\n",
       "      <td>90</td>\n",
       "      <td>52500000.0</td>\n",
       "      <td>275000.0</td>\n",
       "      <td>32</td>\n",
       "      <td>...</td>\n",
       "      <td>55+3</td>\n",
       "      <td>55+3</td>\n",
       "      <td>55+3</td>\n",
       "      <td>56+3</td>\n",
       "      <td>17+3</td>\n",
       "      <td>https://cdn.sofifa.net/players/041/236/15_120.png</td>\n",
       "      <td>https://cdn.sofifa.net/teams/73/60.png</td>\n",
       "      <td>https://cdn.sofifa.net/flags/fr.png</td>\n",
       "      <td>https://cdn.sofifa.net/teams/1363/60.png</td>\n",
       "      <td>https://cdn.sofifa.net/flags/se.png</td>\n",
       "    </tr>\n",
       "    <tr>\n",
       "      <th>4</th>\n",
       "      <td>167495</td>\n",
       "      <td>https://sofifa.com/player/167495/manuel-neuer/...</td>\n",
       "      <td>M. Neuer</td>\n",
       "      <td>Manuel Peter Neuer</td>\n",
       "      <td>GK</td>\n",
       "      <td>90</td>\n",
       "      <td>90</td>\n",
       "      <td>63500000.0</td>\n",
       "      <td>300000.0</td>\n",
       "      <td>28</td>\n",
       "      <td>...</td>\n",
       "      <td>38+3</td>\n",
       "      <td>38+3</td>\n",
       "      <td>38+3</td>\n",
       "      <td>36+3</td>\n",
       "      <td>87+3</td>\n",
       "      <td>https://cdn.sofifa.net/players/167/495/15_120.png</td>\n",
       "      <td>https://cdn.sofifa.net/teams/21/60.png</td>\n",
       "      <td>https://cdn.sofifa.net/flags/de.png</td>\n",
       "      <td>https://cdn.sofifa.net/teams/1337/60.png</td>\n",
       "      <td>https://cdn.sofifa.net/flags/de.png</td>\n",
       "    </tr>\n",
       "  </tbody>\n",
       "</table>\n",
       "<p>5 rows × 110 columns</p>\n",
       "</div>"
      ],
      "text/plain": [
       "   sofifa_id                                         player_url  \\\n",
       "0     158023  https://sofifa.com/player/158023/lionel-messi/...   \n",
       "1      20801  https://sofifa.com/player/20801/c-ronaldo-dos-...   \n",
       "2       9014  https://sofifa.com/player/9014/arjen-robben/15...   \n",
       "3      41236  https://sofifa.com/player/41236/zlatan-ibrahim...   \n",
       "4     167495  https://sofifa.com/player/167495/manuel-neuer/...   \n",
       "\n",
       "          short_name                            long_name player_positions  \\\n",
       "0           L. Messi       Lionel Andrés Messi Cuccittini               CF   \n",
       "1  Cristiano Ronaldo  Cristiano Ronaldo dos Santos Aveiro           LW, LM   \n",
       "2          A. Robben                         Arjen Robben       RM, LM, RW   \n",
       "3     Z. Ibrahimović                   Zlatan Ibrahimović               ST   \n",
       "4           M. Neuer                   Manuel Peter Neuer               GK   \n",
       "\n",
       "   overall  potential    value_eur  wage_eur  age  ...   lcb    cb   rcb  \\\n",
       "0       93         95  100500000.0  550000.0   27  ...  45+3  45+3  45+3   \n",
       "1       92         92   79000000.0  375000.0   29  ...  52+3  52+3  52+3   \n",
       "2       90         90   54500000.0  275000.0   30  ...  46+3  46+3  46+3   \n",
       "3       90         90   52500000.0  275000.0   32  ...  55+3  55+3  55+3   \n",
       "4       90         90   63500000.0  300000.0   28  ...  38+3  38+3  38+3   \n",
       "\n",
       "     rb    gk                                    player_face_url  \\\n",
       "0  54+3  15+3  https://cdn.sofifa.net/players/158/023/15_120.png   \n",
       "1  57+3  16+3  https://cdn.sofifa.net/players/020/801/15_120.png   \n",
       "2  55+3  14+3  https://cdn.sofifa.net/players/009/014/15_120.png   \n",
       "3  56+3  17+3  https://cdn.sofifa.net/players/041/236/15_120.png   \n",
       "4  36+3  87+3  https://cdn.sofifa.net/players/167/495/15_120.png   \n",
       "\n",
       "                             club_logo_url  \\\n",
       "0  https://cdn.sofifa.net/teams/241/60.png   \n",
       "1  https://cdn.sofifa.net/teams/243/60.png   \n",
       "2   https://cdn.sofifa.net/teams/21/60.png   \n",
       "3   https://cdn.sofifa.net/teams/73/60.png   \n",
       "4   https://cdn.sofifa.net/teams/21/60.png   \n",
       "\n",
       "                         club_flag_url  \\\n",
       "0  https://cdn.sofifa.net/flags/es.png   \n",
       "1  https://cdn.sofifa.net/flags/es.png   \n",
       "2  https://cdn.sofifa.net/flags/de.png   \n",
       "3  https://cdn.sofifa.net/flags/fr.png   \n",
       "4  https://cdn.sofifa.net/flags/de.png   \n",
       "\n",
       "                              nation_logo_url  \\\n",
       "0    https://cdn.sofifa.net/teams/1369/60.png   \n",
       "1    https://cdn.sofifa.net/teams/1354/60.png   \n",
       "2  https://cdn.sofifa.net/teams/105035/60.png   \n",
       "3    https://cdn.sofifa.net/teams/1363/60.png   \n",
       "4    https://cdn.sofifa.net/teams/1337/60.png   \n",
       "\n",
       "                       nation_flag_url  \n",
       "0  https://cdn.sofifa.net/flags/ar.png  \n",
       "1  https://cdn.sofifa.net/flags/pt.png  \n",
       "2  https://cdn.sofifa.net/flags/nl.png  \n",
       "3  https://cdn.sofifa.net/flags/se.png  \n",
       "4  https://cdn.sofifa.net/flags/de.png  \n",
       "\n",
       "[5 rows x 110 columns]"
      ]
     },
     "execution_count": 9,
     "metadata": {},
     "output_type": "execute_result"
    }
   ],
   "source": [
    "df.head() # overview of the data."
   ]
  },
  {
   "cell_type": "code",
   "execution_count": 10,
   "id": "1ed62359",
   "metadata": {
    "execution": {
     "iopub.execute_input": "2023-09-18T23:54:22.755357Z",
     "iopub.status.busy": "2023-09-18T23:54:22.753058Z",
     "iopub.status.idle": "2023-09-18T23:54:22.766300Z",
     "shell.execute_reply": "2023-09-18T23:54:22.764920Z"
    },
    "papermill": {
     "duration": 0.025832,
     "end_time": "2023-09-18T23:54:22.769225",
     "exception": false,
     "start_time": "2023-09-18T23:54:22.743393",
     "status": "completed"
    },
    "tags": []
   },
   "outputs": [],
   "source": [
    "speciific_columns = ['overall','potential','value_eur','wage_eur','age'] #Select specific columns of interest for clustering\n",
    "data = df[speciific_columns]\n"
   ]
  },
  {
   "cell_type": "code",
   "execution_count": 11,
   "id": "9ee5d28a",
   "metadata": {
    "execution": {
     "iopub.execute_input": "2023-09-18T23:54:22.787584Z",
     "iopub.status.busy": "2023-09-18T23:54:22.787077Z",
     "iopub.status.idle": "2023-09-18T23:54:22.795040Z",
     "shell.execute_reply": "2023-09-18T23:54:22.794131Z"
    },
    "papermill": {
     "duration": 0.020261,
     "end_time": "2023-09-18T23:54:22.797600",
     "exception": false,
     "start_time": "2023-09-18T23:54:22.777339",
     "status": "completed"
    },
    "tags": []
   },
   "outputs": [],
   "source": [
    "new_data = data.dropna(axis = 0)# drop rows with missing values"
   ]
  },
  {
   "cell_type": "code",
   "execution_count": 12,
   "id": "1819ef7c",
   "metadata": {
    "execution": {
     "iopub.execute_input": "2023-09-18T23:54:22.816786Z",
     "iopub.status.busy": "2023-09-18T23:54:22.815573Z",
     "iopub.status.idle": "2023-09-18T23:54:22.830671Z",
     "shell.execute_reply": "2023-09-18T23:54:22.829407Z"
    },
    "papermill": {
     "duration": 0.027081,
     "end_time": "2023-09-18T23:54:22.833113",
     "exception": false,
     "start_time": "2023-09-18T23:54:22.806032",
     "status": "completed"
    },
    "tags": []
   },
   "outputs": [
    {
     "data": {
      "text/html": [
       "<div>\n",
       "<style scoped>\n",
       "    .dataframe tbody tr th:only-of-type {\n",
       "        vertical-align: middle;\n",
       "    }\n",
       "\n",
       "    .dataframe tbody tr th {\n",
       "        vertical-align: top;\n",
       "    }\n",
       "\n",
       "    .dataframe thead th {\n",
       "        text-align: right;\n",
       "    }\n",
       "</style>\n",
       "<table border=\"1\" class=\"dataframe\">\n",
       "  <thead>\n",
       "    <tr style=\"text-align: right;\">\n",
       "      <th></th>\n",
       "      <th>overall</th>\n",
       "      <th>potential</th>\n",
       "      <th>value_eur</th>\n",
       "      <th>wage_eur</th>\n",
       "      <th>age</th>\n",
       "    </tr>\n",
       "  </thead>\n",
       "  <tbody>\n",
       "    <tr>\n",
       "      <th>0</th>\n",
       "      <td>93</td>\n",
       "      <td>95</td>\n",
       "      <td>100500000.0</td>\n",
       "      <td>550000.0</td>\n",
       "      <td>27</td>\n",
       "    </tr>\n",
       "    <tr>\n",
       "      <th>1</th>\n",
       "      <td>92</td>\n",
       "      <td>92</td>\n",
       "      <td>79000000.0</td>\n",
       "      <td>375000.0</td>\n",
       "      <td>29</td>\n",
       "    </tr>\n",
       "    <tr>\n",
       "      <th>2</th>\n",
       "      <td>90</td>\n",
       "      <td>90</td>\n",
       "      <td>54500000.0</td>\n",
       "      <td>275000.0</td>\n",
       "      <td>30</td>\n",
       "    </tr>\n",
       "    <tr>\n",
       "      <th>3</th>\n",
       "      <td>90</td>\n",
       "      <td>90</td>\n",
       "      <td>52500000.0</td>\n",
       "      <td>275000.0</td>\n",
       "      <td>32</td>\n",
       "    </tr>\n",
       "    <tr>\n",
       "      <th>4</th>\n",
       "      <td>90</td>\n",
       "      <td>90</td>\n",
       "      <td>63500000.0</td>\n",
       "      <td>300000.0</td>\n",
       "      <td>28</td>\n",
       "    </tr>\n",
       "  </tbody>\n",
       "</table>\n",
       "</div>"
      ],
      "text/plain": [
       "   overall  potential    value_eur  wage_eur  age\n",
       "0       93         95  100500000.0  550000.0   27\n",
       "1       92         92   79000000.0  375000.0   29\n",
       "2       90         90   54500000.0  275000.0   30\n",
       "3       90         90   52500000.0  275000.0   32\n",
       "4       90         90   63500000.0  300000.0   28"
      ]
     },
     "execution_count": 12,
     "metadata": {},
     "output_type": "execute_result"
    }
   ],
   "source": [
    "new_data.head()"
   ]
  },
  {
   "cell_type": "code",
   "execution_count": 13,
   "id": "936db3fe",
   "metadata": {
    "execution": {
     "iopub.execute_input": "2023-09-18T23:54:22.851381Z",
     "iopub.status.busy": "2023-09-18T23:54:22.850912Z",
     "iopub.status.idle": "2023-09-18T23:54:22.865908Z",
     "shell.execute_reply": "2023-09-18T23:54:22.864424Z"
    },
    "papermill": {
     "duration": 0.0275,
     "end_time": "2023-09-18T23:54:22.868594",
     "exception": false,
     "start_time": "2023-09-18T23:54:22.841094",
     "status": "completed"
    },
    "tags": []
   },
   "outputs": [
    {
     "data": {
      "text/plain": [
       "array([[10.        , 10.        , 10.        , 10.        ,  4.53571429],\n",
       "       [ 9.83018868,  9.48076923,  8.07460771,  7.12591241,  5.17857143],\n",
       "       [ 9.49056604,  9.13461538,  5.88055603,  5.48357664,  5.5       ],\n",
       "       ...,\n",
       "       [ 1.16981132,  2.21153846,  1.00259704,  1.        ,  1.32142857],\n",
       "       [ 1.        ,  2.21153846,  1.00125374,  1.        ,  1.64285714],\n",
       "       [ 1.        ,  2.03846154,  1.00125374,  1.        ,  2.92857143]])"
      ]
     },
     "execution_count": 13,
     "metadata": {},
     "output_type": "execute_result"
    }
   ],
   "source": [
    "#Use MinMaxScaler to normalize data to a range of [1, 10]. Helps models perform better by scaling features.\n",
    "scaler = MinMaxScaler(feature_range=(1,10))\n",
    "data = scaler.fit_transform(new_data)\n",
    "data"
   ]
  },
  {
   "cell_type": "code",
   "execution_count": 14,
   "id": "caa2d55d",
   "metadata": {
    "execution": {
     "iopub.execute_input": "2023-09-18T23:54:22.887171Z",
     "iopub.status.busy": "2023-09-18T23:54:22.886750Z",
     "iopub.status.idle": "2023-09-18T23:54:22.904857Z",
     "shell.execute_reply": "2023-09-18T23:54:22.903403Z"
    },
    "papermill": {
     "duration": 0.030699,
     "end_time": "2023-09-18T23:54:22.907577",
     "exception": false,
     "start_time": "2023-09-18T23:54:22.876878",
     "status": "completed"
    },
    "tags": []
   },
   "outputs": [
    {
     "data": {
      "text/html": [
       "<div>\n",
       "<style scoped>\n",
       "    .dataframe tbody tr th:only-of-type {\n",
       "        vertical-align: middle;\n",
       "    }\n",
       "\n",
       "    .dataframe tbody tr th {\n",
       "        vertical-align: top;\n",
       "    }\n",
       "\n",
       "    .dataframe thead th {\n",
       "        text-align: right;\n",
       "    }\n",
       "</style>\n",
       "<table border=\"1\" class=\"dataframe\">\n",
       "  <thead>\n",
       "    <tr style=\"text-align: right;\">\n",
       "      <th></th>\n",
       "      <th>overall</th>\n",
       "      <th>potential</th>\n",
       "      <th>value_eur</th>\n",
       "      <th>wage_eur</th>\n",
       "      <th>age</th>\n",
       "    </tr>\n",
       "  </thead>\n",
       "  <tbody>\n",
       "    <tr>\n",
       "      <th>0</th>\n",
       "      <td>10.000000</td>\n",
       "      <td>10.000000</td>\n",
       "      <td>10.000000</td>\n",
       "      <td>10.000000</td>\n",
       "      <td>4.535714</td>\n",
       "    </tr>\n",
       "    <tr>\n",
       "      <th>1</th>\n",
       "      <td>9.830189</td>\n",
       "      <td>9.480769</td>\n",
       "      <td>8.074608</td>\n",
       "      <td>7.125912</td>\n",
       "      <td>5.178571</td>\n",
       "    </tr>\n",
       "    <tr>\n",
       "      <th>2</th>\n",
       "      <td>9.490566</td>\n",
       "      <td>9.134615</td>\n",
       "      <td>5.880556</td>\n",
       "      <td>5.483577</td>\n",
       "      <td>5.500000</td>\n",
       "    </tr>\n",
       "    <tr>\n",
       "      <th>3</th>\n",
       "      <td>9.490566</td>\n",
       "      <td>9.134615</td>\n",
       "      <td>5.701450</td>\n",
       "      <td>5.483577</td>\n",
       "      <td>6.142857</td>\n",
       "    </tr>\n",
       "    <tr>\n",
       "      <th>4</th>\n",
       "      <td>9.490566</td>\n",
       "      <td>9.134615</td>\n",
       "      <td>6.686534</td>\n",
       "      <td>5.894161</td>\n",
       "      <td>4.857143</td>\n",
       "    </tr>\n",
       "    <tr>\n",
       "      <th>...</th>\n",
       "      <td>...</td>\n",
       "      <td>...</td>\n",
       "      <td>...</td>\n",
       "      <td>...</td>\n",
       "      <td>...</td>\n",
       "    </tr>\n",
       "    <tr>\n",
       "      <th>15839</th>\n",
       "      <td>1.339623</td>\n",
       "      <td>2.903846</td>\n",
       "      <td>1.002149</td>\n",
       "      <td>1.000000</td>\n",
       "      <td>1.642857</td>\n",
       "    </tr>\n",
       "    <tr>\n",
       "      <th>15840</th>\n",
       "      <td>1.169811</td>\n",
       "      <td>4.115385</td>\n",
       "      <td>1.001702</td>\n",
       "      <td>1.000000</td>\n",
       "      <td>1.321429</td>\n",
       "    </tr>\n",
       "    <tr>\n",
       "      <th>15841</th>\n",
       "      <td>1.169811</td>\n",
       "      <td>2.211538</td>\n",
       "      <td>1.002597</td>\n",
       "      <td>1.000000</td>\n",
       "      <td>1.321429</td>\n",
       "    </tr>\n",
       "    <tr>\n",
       "      <th>15842</th>\n",
       "      <td>1.000000</td>\n",
       "      <td>2.211538</td>\n",
       "      <td>1.001254</td>\n",
       "      <td>1.000000</td>\n",
       "      <td>1.642857</td>\n",
       "    </tr>\n",
       "    <tr>\n",
       "      <th>15843</th>\n",
       "      <td>1.000000</td>\n",
       "      <td>2.038462</td>\n",
       "      <td>1.001254</td>\n",
       "      <td>1.000000</td>\n",
       "      <td>2.928571</td>\n",
       "    </tr>\n",
       "  </tbody>\n",
       "</table>\n",
       "<p>15844 rows × 5 columns</p>\n",
       "</div>"
      ],
      "text/plain": [
       "         overall  potential  value_eur   wage_eur       age\n",
       "0      10.000000  10.000000  10.000000  10.000000  4.535714\n",
       "1       9.830189   9.480769   8.074608   7.125912  5.178571\n",
       "2       9.490566   9.134615   5.880556   5.483577  5.500000\n",
       "3       9.490566   9.134615   5.701450   5.483577  6.142857\n",
       "4       9.490566   9.134615   6.686534   5.894161  4.857143\n",
       "...          ...        ...        ...        ...       ...\n",
       "15839   1.339623   2.903846   1.002149   1.000000  1.642857\n",
       "15840   1.169811   4.115385   1.001702   1.000000  1.321429\n",
       "15841   1.169811   2.211538   1.002597   1.000000  1.321429\n",
       "15842   1.000000   2.211538   1.001254   1.000000  1.642857\n",
       "15843   1.000000   2.038462   1.001254   1.000000  2.928571\n",
       "\n",
       "[15844 rows x 5 columns]"
      ]
     },
     "execution_count": 14,
     "metadata": {},
     "output_type": "execute_result"
    }
   ],
   "source": [
    "#The new data frame after scaling.\n",
    "df = pd.DataFrame(data,columns = new_data.columns)\n",
    "df"
   ]
  },
  {
   "cell_type": "code",
   "execution_count": 15,
   "id": "05c94484",
   "metadata": {
    "execution": {
     "iopub.execute_input": "2023-09-18T23:54:22.928055Z",
     "iopub.status.busy": "2023-09-18T23:54:22.927066Z",
     "iopub.status.idle": "2023-09-18T23:54:22.933942Z",
     "shell.execute_reply": "2023-09-18T23:54:22.932953Z"
    },
    "papermill": {
     "duration": 0.019851,
     "end_time": "2023-09-18T23:54:22.936488",
     "exception": false,
     "start_time": "2023-09-18T23:54:22.916637",
     "status": "completed"
    },
    "tags": []
   },
   "outputs": [],
   "source": [
    "#Defines initial cluster centers by randomly sampling from the dataset for 'n' number of times\n",
    "def random_seeds (df,n):\n",
    "    seeds = []   \n",
    "    for  y in range(n):\n",
    "        seed = df.apply(lambda x : x.sample().iloc[0])\n",
    "        seeds.append(seed)\n",
    "    return pd.concat(seeds,axis = 1)"
   ]
  },
  {
   "cell_type": "code",
   "execution_count": 16,
   "id": "fdb0fbb2",
   "metadata": {
    "execution": {
     "iopub.execute_input": "2023-09-18T23:54:22.956297Z",
     "iopub.status.busy": "2023-09-18T23:54:22.955638Z",
     "iopub.status.idle": "2023-09-18T23:54:22.987191Z",
     "shell.execute_reply": "2023-09-18T23:54:22.986091Z"
    },
    "papermill": {
     "duration": 0.04529,
     "end_time": "2023-09-18T23:54:22.990391",
     "exception": false,
     "start_time": "2023-09-18T23:54:22.945101",
     "status": "completed"
    },
    "tags": []
   },
   "outputs": [
    {
     "data": {
      "text/html": [
       "<div>\n",
       "<style scoped>\n",
       "    .dataframe tbody tr th:only-of-type {\n",
       "        vertical-align: middle;\n",
       "    }\n",
       "\n",
       "    .dataframe tbody tr th {\n",
       "        vertical-align: top;\n",
       "    }\n",
       "\n",
       "    .dataframe thead th {\n",
       "        text-align: right;\n",
       "    }\n",
       "</style>\n",
       "<table border=\"1\" class=\"dataframe\">\n",
       "  <thead>\n",
       "    <tr style=\"text-align: right;\">\n",
       "      <th></th>\n",
       "      <th>0</th>\n",
       "      <th>1</th>\n",
       "      <th>2</th>\n",
       "      <th>3</th>\n",
       "      <th>4</th>\n",
       "    </tr>\n",
       "  </thead>\n",
       "  <tbody>\n",
       "    <tr>\n",
       "      <th>overall</th>\n",
       "      <td>4.226415</td>\n",
       "      <td>4.735849</td>\n",
       "      <td>3.886792</td>\n",
       "      <td>4.056604</td>\n",
       "      <td>6.264151</td>\n",
       "    </tr>\n",
       "    <tr>\n",
       "      <th>potential</th>\n",
       "      <td>2.903846</td>\n",
       "      <td>4.634615</td>\n",
       "      <td>6.711538</td>\n",
       "      <td>5.500000</td>\n",
       "      <td>7.057692</td>\n",
       "    </tr>\n",
       "    <tr>\n",
       "      <th>value_eur</th>\n",
       "      <td>1.003493</td>\n",
       "      <td>1.080508</td>\n",
       "      <td>1.022299</td>\n",
       "      <td>1.016030</td>\n",
       "      <td>1.011552</td>\n",
       "    </tr>\n",
       "    <tr>\n",
       "      <th>wage_eur</th>\n",
       "      <td>1.000000</td>\n",
       "      <td>1.000000</td>\n",
       "      <td>1.065693</td>\n",
       "      <td>1.032847</td>\n",
       "      <td>1.377737</td>\n",
       "    </tr>\n",
       "    <tr>\n",
       "      <th>age</th>\n",
       "      <td>2.285714</td>\n",
       "      <td>1.964286</td>\n",
       "      <td>3.892857</td>\n",
       "      <td>2.607143</td>\n",
       "      <td>2.928571</td>\n",
       "    </tr>\n",
       "  </tbody>\n",
       "</table>\n",
       "</div>"
      ],
      "text/plain": [
       "                  0         1         2         3         4\n",
       "overall    4.226415  4.735849  3.886792  4.056604  6.264151\n",
       "potential  2.903846  4.634615  6.711538  5.500000  7.057692\n",
       "value_eur  1.003493  1.080508  1.022299  1.016030  1.011552\n",
       "wage_eur   1.000000  1.000000  1.065693  1.032847  1.377737\n",
       "age        2.285714  1.964286  3.892857  2.607143  2.928571"
      ]
     },
     "execution_count": 16,
     "metadata": {},
     "output_type": "execute_result"
    }
   ],
   "source": [
    "#Displays 5 cluster centers randomly selected and stored in 'clusters' variable\n",
    "seeds = random_seeds(df,5)\n",
    "seeds"
   ]
  },
  {
   "cell_type": "code",
   "execution_count": 17,
   "id": "58e8c74b",
   "metadata": {
    "execution": {
     "iopub.execute_input": "2023-09-18T23:54:23.014325Z",
     "iopub.status.busy": "2023-09-18T23:54:23.013863Z",
     "iopub.status.idle": "2023-09-18T23:54:23.020252Z",
     "shell.execute_reply": "2023-09-18T23:54:23.019030Z"
    },
    "papermill": {
     "duration": 0.023627,
     "end_time": "2023-09-18T23:54:23.023327",
     "exception": false,
     "start_time": "2023-09-18T23:54:22.999700",
     "status": "completed"
    },
    "tags": []
   },
   "outputs": [],
   "source": [
    "#Computes the Euclidean distances between each data point and all seeds, assigning each point to the closest seed's label.\n",
    "def the_labels(df,seeds):\n",
    "    distances = seeds.apply(lambda x : np.sqrt(((df - x)**2).sum(axis = 1)))\n",
    "    return distances.idxmin(axis = 1)"
   ]
  },
  {
   "cell_type": "code",
   "execution_count": 18,
   "id": "09d3dea9",
   "metadata": {
    "execution": {
     "iopub.execute_input": "2023-09-18T23:54:23.043606Z",
     "iopub.status.busy": "2023-09-18T23:54:23.042954Z",
     "iopub.status.idle": "2023-09-18T23:54:23.116593Z",
     "shell.execute_reply": "2023-09-18T23:54:23.115244Z"
    },
    "papermill": {
     "duration": 0.087124,
     "end_time": "2023-09-18T23:54:23.119505",
     "exception": false,
     "start_time": "2023-09-18T23:54:23.032381",
     "status": "completed"
    },
    "tags": []
   },
   "outputs": [
    {
     "data": {
      "text/plain": [
       "0        4\n",
       "1        4\n",
       "2        4\n",
       "3        4\n",
       "4        4\n",
       "        ..\n",
       "15839    0\n",
       "15840    0\n",
       "15841    0\n",
       "15842    0\n",
       "15843    0\n",
       "Length: 15844, dtype: int64"
      ]
     },
     "execution_count": 18,
     "metadata": {},
     "output_type": "execute_result"
    }
   ],
   "source": [
    "labels = the_labels(df,seeds)\n",
    "labels"
   ]
  },
  {
   "cell_type": "code",
   "execution_count": 19,
   "id": "0f18f0cd",
   "metadata": {
    "execution": {
     "iopub.execute_input": "2023-09-18T23:54:23.140376Z",
     "iopub.status.busy": "2023-09-18T23:54:23.139614Z",
     "iopub.status.idle": "2023-09-18T23:54:23.145092Z",
     "shell.execute_reply": "2023-09-18T23:54:23.144165Z"
    },
    "papermill": {
     "duration": 0.018733,
     "end_time": "2023-09-18T23:54:23.147357",
     "exception": false,
     "start_time": "2023-09-18T23:54:23.128624",
     "status": "completed"
    },
    "tags": []
   },
   "outputs": [],
   "source": [
    "#Now we group the data(df) using the labels above.\n",
    "# #Computes new seed positions using the geometric mean of data points within each cluster. The geometric mean is calculated by taking the logarithm of the data, averaging it, and then exponentiating the result.\n",
    "def new_seeds(df,labels):  \n",
    "    return df.groupby(labels).apply(lambda x : np.exp(np.log(x).mean())).transpose()"
   ]
  },
  {
   "cell_type": "code",
   "execution_count": 20,
   "id": "9ea4ab7c",
   "metadata": {
    "execution": {
     "iopub.execute_input": "2023-09-18T23:54:23.167807Z",
     "iopub.status.busy": "2023-09-18T23:54:23.167287Z",
     "iopub.status.idle": "2023-09-18T23:54:23.196664Z",
     "shell.execute_reply": "2023-09-18T23:54:23.194871Z"
    },
    "papermill": {
     "duration": 0.042813,
     "end_time": "2023-09-18T23:54:23.199303",
     "exception": false,
     "start_time": "2023-09-18T23:54:23.156490",
     "status": "completed"
    },
    "tags": []
   },
   "outputs": [
    {
     "data": {
      "text/html": [
       "<div>\n",
       "<style scoped>\n",
       "    .dataframe tbody tr th:only-of-type {\n",
       "        vertical-align: middle;\n",
       "    }\n",
       "\n",
       "    .dataframe tbody tr th {\n",
       "        vertical-align: top;\n",
       "    }\n",
       "\n",
       "    .dataframe thead th {\n",
       "        text-align: right;\n",
       "    }\n",
       "</style>\n",
       "<table border=\"1\" class=\"dataframe\">\n",
       "  <thead>\n",
       "    <tr style=\"text-align: right;\">\n",
       "      <th></th>\n",
       "      <th>0</th>\n",
       "      <th>1</th>\n",
       "      <th>2</th>\n",
       "      <th>3</th>\n",
       "      <th>4</th>\n",
       "    </tr>\n",
       "  </thead>\n",
       "  <tbody>\n",
       "    <tr>\n",
       "      <th>overall</th>\n",
       "      <td>3.126739</td>\n",
       "      <td>4.028962</td>\n",
       "      <td>5.285393</td>\n",
       "      <td>4.365511</td>\n",
       "      <td>6.357235</td>\n",
       "    </tr>\n",
       "    <tr>\n",
       "      <th>potential</th>\n",
       "      <td>3.453271</td>\n",
       "      <td>4.649217</td>\n",
       "      <td>4.929806</td>\n",
       "      <td>5.135970</td>\n",
       "      <td>6.633338</td>\n",
       "    </tr>\n",
       "    <tr>\n",
       "      <th>value_eur</th>\n",
       "      <td>1.005978</td>\n",
       "      <td>1.012007</td>\n",
       "      <td>1.043511</td>\n",
       "      <td>1.021358</td>\n",
       "      <td>1.232240</td>\n",
       "    </tr>\n",
       "    <tr>\n",
       "      <th>wage_eur</th>\n",
       "      <td>1.002376</td>\n",
       "      <td>1.008083</td>\n",
       "      <td>1.080518</td>\n",
       "      <td>1.024269</td>\n",
       "      <td>1.465990</td>\n",
       "    </tr>\n",
       "    <tr>\n",
       "      <th>age</th>\n",
       "      <td>2.974694</td>\n",
       "      <td>2.012104</td>\n",
       "      <td>5.564194</td>\n",
       "      <td>2.899457</td>\n",
       "      <td>3.761196</td>\n",
       "    </tr>\n",
       "  </tbody>\n",
       "</table>\n",
       "</div>"
      ],
      "text/plain": [
       "                  0         1         2         3         4\n",
       "overall    3.126739  4.028962  5.285393  4.365511  6.357235\n",
       "potential  3.453271  4.649217  4.929806  5.135970  6.633338\n",
       "value_eur  1.005978  1.012007  1.043511  1.021358  1.232240\n",
       "wage_eur   1.002376  1.008083  1.080518  1.024269  1.465990\n",
       "age        2.974694  2.012104  5.564194  2.899457  3.761196"
      ]
     },
     "execution_count": 20,
     "metadata": {},
     "output_type": "execute_result"
    }
   ],
   "source": [
    "new_seeds(df,labels)"
   ]
  },
  {
   "cell_type": "code",
   "execution_count": 21,
   "id": "398c0aa9",
   "metadata": {
    "execution": {
     "iopub.execute_input": "2023-09-18T23:54:23.219667Z",
     "iopub.status.busy": "2023-09-18T23:54:23.219243Z",
     "iopub.status.idle": "2023-09-18T23:54:23.227332Z",
     "shell.execute_reply": "2023-09-18T23:54:23.226025Z"
    },
    "papermill": {
     "duration": 0.021448,
     "end_time": "2023-09-18T23:54:23.229857",
     "exception": false,
     "start_time": "2023-09-18T23:54:23.208409",
     "status": "completed"
    },
    "tags": []
   },
   "outputs": [],
   "source": [
    "def plot_seeds (df,labels,seeds,iteration):\n",
    "    pca = PCA(n_components=2)\n",
    "    df_2d = pca.fit_transform(df)\n",
    "    clusters_2d =  pca.transform(seeds.transpose())\n",
    "    clear_output(wait = True)\n",
    "    plt.title(f'iteration{iteration}')\n",
    "    plt.scatter(x = df_2d[:,0],y = df_2d[:,1],c = labels)\n",
    "    plt.scatter(x = clusters_2d[:,0], y = clusters_2d[:,1])\n",
    "    plt.show()"
   ]
  },
  {
   "cell_type": "code",
   "execution_count": 22,
   "id": "7b2a52a0",
   "metadata": {
    "execution": {
     "iopub.execute_input": "2023-09-18T23:54:23.250209Z",
     "iopub.status.busy": "2023-09-18T23:54:23.249790Z",
     "iopub.status.idle": "2023-09-18T23:55:04.108809Z",
     "shell.execute_reply": "2023-09-18T23:55:04.107375Z"
    },
    "papermill": {
     "duration": 40.873149,
     "end_time": "2023-09-18T23:55:04.112109",
     "exception": false,
     "start_time": "2023-09-18T23:54:23.238960",
     "status": "completed"
    },
    "tags": []
   },
   "outputs": [
    {
     "data": {
      "image/png": "[encoded data removed]",
      "text/plain": [
       "<Figure size 640x480 with 1 Axes>"
      ]
     },
     "metadata": {},
     "output_type": "display_data"
    }
   ],
   "source": [
    "max_iteration = 100\n",
    "z = 5\n",
    "\n",
    "seeds = random_seeds(df,z)\n",
    "old_seeds = pd.DataFrame()\n",
    "iteration = 1\n",
    "\n",
    "while iteration < max_iteration:   \n",
    "    labels = the_labels(df,seeds)\n",
    "    updated_seeds = new_seeds(df,labels)\n",
    "    old_seeds = seeds\n",
    "    if updated_seeds.equals(old_seeds):\n",
    "        break\n",
    "    \n",
    "    plot_seeds (df,labels,updated_seeds,iteration)\n",
    "    \n",
    "    seeds = updated_seeds\n",
    "    iteration +=1\n",
    "    "
   ]
  },
  {
   "cell_type": "code",
   "execution_count": null,
   "id": "f4f4d4f3",
   "metadata": {
    "papermill": {
     "duration": 0.010799,
     "end_time": "2023-09-18T23:55:04.134010",
     "exception": false,
     "start_time": "2023-09-18T23:55:04.123211",
     "status": "completed"
    },
    "tags": []
   },
   "outputs": [],
   "source": []
  },
  {
   "cell_type": "code",
   "execution_count": null,
   "id": "2c9121b1",
   "metadata": {
    "papermill": {
     "duration": 0.010082,
     "end_time": "2023-09-18T23:55:04.154700",
     "exception": false,
     "start_time": "2023-09-18T23:55:04.144618",
     "status": "completed"
    },
    "tags": []
   },
   "outputs": [],
   "source": []
  }
 ],
 "metadata": {
  "kernelspec": {
   "display_name": "Python 3 (ipykernel)",
   "language": "python",
   "name": "python3"
  },
  "language_info": {
   "codemirror_mode": {
    "name": "ipython",
    "version": 3
   },
   "file_extension": ".py",
   "mimetype": "text/x-python",
   "name": "python",
   "nbconvert_exporter": "python",
   "pygments_lexer": "ipython3",
   "version": "3.9.13"
  },
  "papermill": {
   "default_parameters": {},
   "duration": 99.811716,
   "end_time": "2023-09-18T23:55:05.090050",
   "environment_variables": {},
   "exception": null,
   "input_path": "__notebook__.ipynb",
   "output_path": "__notebook__.ipynb",
   "parameters": {},
   "start_time": "2023-09-18T23:53:25.278334",
   "version": "2.4.0"
  }
 },
 "nbformat": 4,
 "nbformat_minor": 5
}
